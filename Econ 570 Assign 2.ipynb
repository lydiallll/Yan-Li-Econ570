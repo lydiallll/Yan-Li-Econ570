{
 "cells": [
  {
   "cell_type": "code",
   "execution_count": 153,
   "id": "03a9f09b",
   "metadata": {},
   "outputs": [],
   "source": [
    "import pandas as pd\n",
    "import numpy as np\n",
    "import random\n",
    "import statsmodels.api as sm\n",
    "from sklearn.model_selection import cross_val_score\n",
    "from sklearn.model_selection import RepeatedKFold\n",
    "from sklearn.linear_model import Lasso\n",
    "from sklearn.feature_selection import SelectFromModel\n",
    "import matplotlib.pyplot as plt\n",
    "from tqdm import tqdm\n",
    "import warnings\n",
    "warnings.filterwarnings('ignore')\n",
    "\n",
    "import pandas as pd\n",
    "import numpy as np\n",
    "import networkx as nx\n",
    "from matplotlib import style\n",
    "import seaborn as sns\n",
    "from matplotlib import pyplot as plt\n",
    "style.use(\"fivethirtyeight\")\n"
   ]
  },
  {
   "cell_type": "code",
   "execution_count": 154,
   "id": "edd80135",
   "metadata": {},
   "outputs": [],
   "source": [
    "def fn_variance(data, ddof=0):\n",
    "    n = len(data)\n",
    "    mean = sum(data) / n\n",
    "    return sum((x - mean) ** 2 for x in data) / (n - ddof)\n",
    "# Note this is equivalent to np.var(Yt,ddof)\n",
    "# 计算data的方差的函数"
   ]
  },
  {
   "cell_type": "code",
   "execution_count": 155,
   "id": "734ac8c7",
   "metadata": {},
   "outputs": [],
   "source": [
    "def fn_generate_cov(dim):\n",
    "    acc  = []\n",
    "    for i in range(dim):\n",
    "        row = np.ones((1,dim)) * corr\n",
    "        row[0][i] = 1\n",
    "        acc.append(row)\n",
    "    return np.concatenate(acc,axis=0)\n",
    "\n",
    "def fn_generate_multnorm(nobs,corr,nvar):\n",
    "\n",
    "    mu = np.zeros(nvar)\n",
    "    std = (np.abs(np.random.normal(loc = 1, scale = .5,size = (nvar,1))))**(1/2)\n",
    "    # generate random normal distribution\n",
    "    acc = []\n",
    "    for i in range(nvar):\n",
    "        acc.append(np.reshape(np.random.normal(mu[i],std[i],nobs),(nobs,-1)))\n",
    "    \n",
    "    normvars = np.concatenate(acc,axis=1)\n",
    "\n",
    "    cov = fn_generate_cov(nvar)\n",
    "    C = np.linalg.cholesky(cov)\n",
    "\n",
    "    Y = np.transpose(np.dot(C,np.transpose(normvars)))\n",
    "\n",
    "#     return (Y,np.round(np.corrcoef(Y,rowvar=False),2))\n",
    "    return Y\n",
    "\n",
    "def fn_randomize_treatment(N,p=0.5):\n",
    "    treated = random.sample(range(N), round(N*p))\n",
    "    return np.array([(1 if i in treated else 0) for i in range(N)]).reshape([N,1])"
   ]
  },
  {
   "cell_type": "markdown",
   "id": "9af23f68",
   "metadata": {},
   "source": [
    "# 1. Simulate a DGP where the outcome of interest depends on a randomly assigned treatment and some observed covariates. \n",
    "\n",
    "$y_i=\\tau*T_i+β'*x+e_i$\n",
    "\n",
    " \n",
    "### τ is a treatment effect and x is covariate (there is no confounder)\n",
    "\n",
    "\n"
   ]
  },
  {
   "cell_type": "code",
   "execution_count": 156,
   "id": "ba583632",
   "metadata": {},
   "outputs": [],
   "source": [
    "#simulate DGP with only co\n",
    "\n",
    "def fn_generate_data(tau,N,p,p0,corr,conf = True,flagX = False):\n",
    "    \"\"\"\n",
    "    p0(int): number of covariates with nonzero coefficients\n",
    "    \"\"\"\n",
    "    nvar = p+1 # 1 confounder \n",
    "    corr = 0.5 # correlation for multivariate normal\n",
    "\n",
    "    if conf==False:\n",
    "        conf_mult = 0 # 把conf_mult设置为0也即没有confounder\n",
    "    else:\n",
    "        conf_mult = 1 # 则conf_mult为1则包含confounder\n",
    "        \n",
    "    allX = fn_generate_multnorm(N,corr,nvar)\n",
    "    W0 = allX[:,0].reshape([N,1]) # variable for RDD assignment\n",
    "    C = allX[:,1].reshape([N,1]) # confounder\n",
    "    X = allX[:,2:] # observed covariates\n",
    "    \n",
    "    T = fn_randomize_treatment(N) # choose treated units\n",
    "    err = np.random.normal(0,1,[N,1])\n",
    "    beta0 = np.random.normal(5,5,[p,1])\n",
    "    \n",
    "    beta0[p0:p] = 0 # sparse model\n",
    "    Yab = tau*T+X@beta0+conf_mult*0.6*C+err  #计算Y的函数，包含了covariates\n",
    "    if flagX==False:\n",
    "        return (Yab,T)\n",
    "    else:\n",
    "        return (Yab,T,X)\n",
    " \n",
    "    # regression discontinuity\n",
    "#     W = W0 + 0.5*C+3*X[:,80].reshape([N,1])-6*X[:,81].reshape([N,1])\n",
    "#     treated = 1*(W>0)\n",
    "#     Yrdd = 1.2* treated - 4*W + X@beta0 +0.6*C+err\n",
    "\n",
    "def fn_tauhat_means(Yt,Yc):\n",
    "    nt = len(Yt)\n",
    "    nc = len(Yc)\n",
    "    tauhat = np.mean(Yt)-np.mean(Yc)\n",
    "    se_tauhat = (np.var(Yt,ddof=1)/nt+np.var(Yc,ddof=1)/nc)**(1/2)\n",
    "    return (tauhat,se_tauhat)\n",
    "\n",
    "def fn_bias_rmse_size(theta0,thetahat,se_thetahat,cval = 1.96):\n",
    "    \"\"\"\n",
    "    theta0 - true parameter value\n",
    "    thetatahat - estimated parameter value\n",
    "    se_thetahat - estiamted se of thetahat\n",
    "    \"\"\"\n",
    "    b = thetahat - theta0\n",
    "    bias = np.mean(b)\n",
    "    rmse = np.sqrt(np.mean(b**2))\n",
    "    tval = b/se_thetahat # paramhat/se_paramhat H0: theta = 0\n",
    "    size = np.mean(1*(np.abs(tval)>cval))\n",
    "    # note size calculated at true parameter value\n",
    "    return (bias,rmse,size)\n",
    "\n",
    "def fn_run_experiments(tau,Nrange,p,p0,corr,conf,flagX=False):\n",
    "    \n",
    "    \"\"\"\n",
    "    tau是treatment effect\n",
    "    Nrange是sample size的大小\n",
    "    p是生成的covariates数量\n",
    "    p0是covariates包含的数量\n",
    "    corr是covariates之间的correlation大小\n",
    "    conf是confounder有没有\n",
    "    \n",
    "    \"\"\"\n",
    "    \n",
    "    n_values = []\n",
    "    tauhats = []\n",
    "    sehats = []\n",
    "    lb = []\n",
    "    ub = []\n",
    "    for N in tqdm(Nrange):\n",
    "        n_values = n_values + [N]\n",
    "        if flagX==False:\n",
    "            # 不加入covariates\n",
    "            Yexp,T = fn_generate_data(tau,N,p,p0,corr,conf,flagX)\n",
    "            Yt = Yexp[np.where(T==1)[0],:]\n",
    "            Yc = Yexp[np.where(T==0)[0],:]\n",
    "            tauhat,se_tauhat = fn_tauhat_means(Yt,Yc)            \n",
    "        elif flagX==1:\n",
    "            # use the right covariates in regression\n",
    "            Yexp,T,X = fn_generate_data(tau,N,p,p0,corr,conf,flagX)\n",
    "            Xobs = X[:,:p0]\n",
    "            covars = np.concatenate([T,Xobs],axis = 1)\n",
    "            mod = sm.OLS(Yexp,covars)\n",
    "            res = mod.fit()\n",
    "            tauhat = res.params[0]\n",
    "            se_tauhat = res.HC1_se[0]\n",
    "        elif flagX==2:\n",
    "            # use some of the right covariates and some \"wrong\" ones\n",
    "            Yexp,T,X = fn_generate_data(tau,N,p,p0,corr,conf,flagX)\n",
    "            Xobs1 = X[:,:np.int(p0/2)]\n",
    "            Xobs2 = X[:,-np.int(p0/2):]\n",
    "            covars = np.concatenate([T,Xobs1,Xobs2],axis = 1)\n",
    "            mod = sm.OLS(Yexp,covars)\n",
    "            res = mod.fit()\n",
    "            tauhat = res.params[0]\n",
    "            se_tauhat = res.HC1_se[0]\n",
    "            \n",
    "        tauhats = tauhats + [tauhat]\n",
    "        sehats = sehats + [se_tauhat]    \n",
    "        lb = lb + [tauhat-1.96*se_tauhat]\n",
    "        ub = ub + [tauhat+1.96*se_tauhat]\n",
    "        \n",
    "    return (n_values,tauhats,sehats,lb,ub)\n",
    "\n",
    "\n",
    "def fn_plot_with_ci(n_values,tauhats,tau,lb,ub,caption):\n",
    "    fig = plt.figure(figsize = (10,6))\n",
    "    # 作图plot x against y\n",
    "    # lable is what comes out in the legend\n",
    "    plt.plot(n_values,tauhats,label = '$\\hat{\\\\tau}$')\n",
    "    plt.xlabel('N')\n",
    "    plt.ylabel('$\\hat{\\\\tau}$')\n",
    "    # axhline是真实tau值的水平线\n",
    "    plt.axhline(y=tau, color='r', linestyle='-',linewidth=1,\n",
    "                label='True $\\\\tau$={}'.format(tau))\n",
    "    plt.title('{}'.format(caption))\n",
    "    # 下边lb和ub是画置信区间\n",
    "    plt.fill_between(n_values, lb, ub,\n",
    "        alpha=0.5, edgecolor='#FF9848', facecolor='#FF9848',label = '95% CI')\n",
    "    plt.legend()\n"
   ]
  },
  {
   "cell_type": "code",
   "execution_count": 157,
   "id": "782475a5",
   "metadata": {},
   "outputs": [
    {
     "data": {
      "text/html": [
       "<div>\n",
       "<style scoped>\n",
       "    .dataframe tbody tr th:only-of-type {\n",
       "        vertical-align: middle;\n",
       "    }\n",
       "\n",
       "    .dataframe tbody tr th {\n",
       "        vertical-align: top;\n",
       "    }\n",
       "\n",
       "    .dataframe thead th {\n",
       "        text-align: right;\n",
       "    }\n",
       "</style>\n",
       "<table border=\"1\" class=\"dataframe\">\n",
       "  <thead>\n",
       "    <tr style=\"text-align: right;\">\n",
       "      <th></th>\n",
       "      <th>Y</th>\n",
       "      <th>T</th>\n",
       "      <th>X1</th>\n",
       "      <th>X2</th>\n",
       "      <th>X3</th>\n",
       "      <th>X4</th>\n",
       "    </tr>\n",
       "  </thead>\n",
       "  <tbody>\n",
       "    <tr>\n",
       "      <th>0</th>\n",
       "      <td>23.462507</td>\n",
       "      <td>1.0</td>\n",
       "      <td>1.722734</td>\n",
       "      <td>-0.256492</td>\n",
       "      <td>-0.018585</td>\n",
       "      <td>0.723544</td>\n",
       "    </tr>\n",
       "    <tr>\n",
       "      <th>1</th>\n",
       "      <td>-15.753012</td>\n",
       "      <td>0.0</td>\n",
       "      <td>-1.405111</td>\n",
       "      <td>-0.787193</td>\n",
       "      <td>-2.246144</td>\n",
       "      <td>-1.516214</td>\n",
       "    </tr>\n",
       "    <tr>\n",
       "      <th>2</th>\n",
       "      <td>17.762221</td>\n",
       "      <td>0.0</td>\n",
       "      <td>0.934260</td>\n",
       "      <td>0.600883</td>\n",
       "      <td>0.120291</td>\n",
       "      <td>1.087728</td>\n",
       "    </tr>\n",
       "    <tr>\n",
       "      <th>3</th>\n",
       "      <td>-5.067987</td>\n",
       "      <td>0.0</td>\n",
       "      <td>-0.116100</td>\n",
       "      <td>-0.802189</td>\n",
       "      <td>-0.811635</td>\n",
       "      <td>-0.535862</td>\n",
       "    </tr>\n",
       "    <tr>\n",
       "      <th>4</th>\n",
       "      <td>18.478247</td>\n",
       "      <td>1.0</td>\n",
       "      <td>1.697125</td>\n",
       "      <td>-0.238427</td>\n",
       "      <td>0.594738</td>\n",
       "      <td>0.875866</td>\n",
       "    </tr>\n",
       "    <tr>\n",
       "      <th>...</th>\n",
       "      <td>...</td>\n",
       "      <td>...</td>\n",
       "      <td>...</td>\n",
       "      <td>...</td>\n",
       "      <td>...</td>\n",
       "      <td>...</td>\n",
       "    </tr>\n",
       "    <tr>\n",
       "      <th>995</th>\n",
       "      <td>-11.096936</td>\n",
       "      <td>1.0</td>\n",
       "      <td>-0.490086</td>\n",
       "      <td>-1.509822</td>\n",
       "      <td>-1.106811</td>\n",
       "      <td>-0.949469</td>\n",
       "    </tr>\n",
       "    <tr>\n",
       "      <th>996</th>\n",
       "      <td>1.758564</td>\n",
       "      <td>0.0</td>\n",
       "      <td>-0.073309</td>\n",
       "      <td>-0.235437</td>\n",
       "      <td>-0.240900</td>\n",
       "      <td>0.391273</td>\n",
       "    </tr>\n",
       "    <tr>\n",
       "      <th>997</th>\n",
       "      <td>-33.878952</td>\n",
       "      <td>0.0</td>\n",
       "      <td>-2.118605</td>\n",
       "      <td>-2.093770</td>\n",
       "      <td>-1.095439</td>\n",
       "      <td>-1.178951</td>\n",
       "    </tr>\n",
       "    <tr>\n",
       "      <th>998</th>\n",
       "      <td>-16.804994</td>\n",
       "      <td>1.0</td>\n",
       "      <td>-0.741964</td>\n",
       "      <td>-2.003403</td>\n",
       "      <td>-0.589785</td>\n",
       "      <td>-0.868920</td>\n",
       "    </tr>\n",
       "    <tr>\n",
       "      <th>999</th>\n",
       "      <td>14.244517</td>\n",
       "      <td>1.0</td>\n",
       "      <td>0.916356</td>\n",
       "      <td>0.997076</td>\n",
       "      <td>1.017160</td>\n",
       "      <td>0.626235</td>\n",
       "    </tr>\n",
       "  </tbody>\n",
       "</table>\n",
       "<p>1000 rows × 6 columns</p>\n",
       "</div>"
      ],
      "text/plain": [
       "             Y    T        X1        X2        X3        X4\n",
       "0    23.462507  1.0  1.722734 -0.256492 -0.018585  0.723544\n",
       "1   -15.753012  0.0 -1.405111 -0.787193 -2.246144 -1.516214\n",
       "2    17.762221  0.0  0.934260  0.600883  0.120291  1.087728\n",
       "3    -5.067987  0.0 -0.116100 -0.802189 -0.811635 -0.535862\n",
       "4    18.478247  1.0  1.697125 -0.238427  0.594738  0.875866\n",
       "..         ...  ...       ...       ...       ...       ...\n",
       "995 -11.096936  1.0 -0.490086 -1.509822 -1.106811 -0.949469\n",
       "996   1.758564  0.0 -0.073309 -0.235437 -0.240900  0.391273\n",
       "997 -33.878952  0.0 -2.118605 -2.093770 -1.095439 -1.178951\n",
       "998 -16.804994  1.0 -0.741964 -2.003403 -0.589785 -0.868920\n",
       "999  14.244517  1.0  0.916356  0.997076  1.017160  0.626235\n",
       "\n",
       "[1000 rows x 6 columns]"
      ]
     },
     "execution_count": 157,
     "metadata": {},
     "output_type": "execute_result"
    }
   ],
   "source": [
    "tau = 3          # treatment effect的系数\n",
    "corr = .5            # -corr: Correlation for multivariate normal\n",
    "conf=False           # -conf: Indicating the existence of confounding factors\n",
    "p = 4\n",
    "p0 = 4 # number of covariates used in the DGP \n",
    "flagX=1\n",
    "N = 1000 \n",
    "Y,T,X = fn_generate_data(tau,N,p,p0,corr,conf,flagX)\n",
    "data = np.hstack([Y,T,X])\n",
    "data = pd.DataFrame(data)\n",
    "data.columns = ['Y', 'T', 'X1', 'X2','X3','X4']\n",
    "data.to_csv('data1.csv')\n",
    "data"
   ]
  },
  {
   "cell_type": "markdown",
   "id": "bdcf3f93",
   "metadata": {},
   "source": [
    "## illustrate DGP with a DAG\n"
   ]
  },
  {
   "cell_type": "code",
   "execution_count": 159,
   "id": "b4351aa1",
   "metadata": {
    "scrolled": false
   },
   "outputs": [
    {
     "data": {
      "image/png": "[encoded data removed]",
      "text/plain": [
       "<Figure size 432x288 with 1 Axes>"
      ]
     },
     "metadata": {},
     "output_type": "display_data"
    }
   ],
   "source": [
    "g = nx.DiGraph()\n",
    "\n",
    "g.add_node('s1', desc='Y')\n",
    "g.add_node('s2', desc='gender')\n",
    "g.add_node('s3', desc='race')\n",
    "g.add_node('s4', desc='age')\n",
    "g.add_node('s5', desc='T')\n",
    "\n",
    "g.add_edge('s2','s1')\n",
    "g.add_edge('s3','s1')\n",
    "g.add_edge('s4','s1')\n",
    "g.add_edge('s5','s1')\n",
    " \n",
    "pos = nx.spring_layout(g)\n",
    "nx.draw(g, pos)\n",
    "node_labels = nx.get_node_attributes(g, 'desc')\n",
    "nx.draw_networkx_labels(G, pos, labels=node_labels)\n",
    "plt.show()"
   ]
  },
  {
   "cell_type": "markdown",
   "id": "2ce7e182",
   "metadata": {},
   "source": [
    "# Monte Carlo \n",
    "## Case a ( covariates not controlled )\n"
   ]
  },
  {
   "cell_type": "code",
   "execution_count": 149,
   "id": "fd71c8a9",
   "metadata": {},
   "outputs": [
    {
     "name": "stderr",
     "output_type": "stream",
     "text": [
      "100%|█████████████████████████████████████| 2000/2000 [00:00<00:00, 2105.91it/s]\n",
      "100%|██████████████████████████████████████| 2000/2000 [00:09<00:00, 202.61it/s]\n"
     ]
    }
   ],
   "source": [
    "estDict = {}\n",
    "R = 2000\n",
    "for N in [100,1000]:\n",
    "    tauhats = []\n",
    "    sehats = []\n",
    "    for r in tqdm(range(R)):\n",
    "        Yexp,T,X = fn_generate_data(tau,N,4,4,corr,conf,flagX)\n",
    "        Yt = Yexp[np.where(T==1)[0],:]\n",
    "        Yc = Yexp[np.where(T==0)[0],:]\n",
    "        tauhat,se_tauhat = fn_tauhat_means(Yt,Yc)\n",
    "        tauhats = tauhats + [tauhat]\n",
    "        sehats = sehats + [se_tauhat]\n",
    "        \n",
    "    estDict[N] = {\n",
    "        'tauhat':np.array(tauhats).reshape([len(tauhats),1]),\n",
    "        'sehat':np.array(sehats).reshape([len(sehats),1])\n",
    "    }\n"
   ]
  },
  {
   "cell_type": "code",
   "execution_count": 150,
   "id": "b523bdeb",
   "metadata": {},
   "outputs": [
    {
     "name": "stdout",
     "output_type": "stream",
     "text": [
      "N=100: bias=-0.07210192755462753, RMSE=3.8342702739275487, size=0.056\n",
      "N=1000: bias=0.01681163647640305, RMSE=1.1354312075547441, size=0.043\n"
     ]
    }
   ],
   "source": [
    "tau0 = tau*np.ones([R,1])\n",
    "for N, results in estDict.items():\n",
    "    (bias,rmse,size) = fn_bias_rmse_size(tau0,results['tauhat'],\n",
    "                                         results['sehat'])\n",
    "    print(f'N={N}: bias={bias}, RMSE={rmse}, size={size}')"
   ]
  },
  {
   "cell_type": "markdown",
   "id": "89c06da5",
   "metadata": {},
   "source": [
    "# Case b (covariates controlled)\n"
   ]
  },
  {
   "cell_type": "code",
   "execution_count": 147,
   "id": "b3fc0681",
   "metadata": {},
   "outputs": [
    {
     "name": "stderr",
     "output_type": "stream",
     "text": [
      "100%|██████████████████████████████████████| 2000/2000 [00:02<00:00, 858.71it/s]\n",
      "100%|██████████████████████████████████████| 2000/2000 [00:11<00:00, 176.85it/s]\n"
     ]
    }
   ],
   "source": [
    "estDict = {}\n",
    "R = 2000\n",
    "for N in [100,1000]:\n",
    "    tauhats = []\n",
    "    sehats = []\n",
    "    for r in tqdm(range(R)):\n",
    "        Yexp,T,X = fn_generate_data(tau,N,4,4,corr,conf,flagX)\n",
    "        Xobs = X[:,:p0]\n",
    "        covars = np.concatenate([T,Xobs],axis = 1)\n",
    "        mod = sm.OLS(Yexp,covars)\n",
    "        res = mod.fit()\n",
    "        tauhat = res.params[0]\n",
    "        se_tauhat = res.HC1_se[0]\n",
    "        tauhats = tauhats + [tauhat]\n",
    "        sehats = sehats + [se_tauhat]\n",
    "        \n",
    "    estDict[N] = {\n",
    "        'tauhat':np.array(tauhats).reshape([len(tauhats),1]),\n",
    "        'sehat':np.array(sehats).reshape([len(sehats),1])\n",
    "    }\n"
   ]
  },
  {
   "cell_type": "code",
   "execution_count": 148,
   "id": "ca683a12",
   "metadata": {},
   "outputs": [
    {
     "name": "stdout",
     "output_type": "stream",
     "text": [
      "N=100: bias=0.0017636451403265439, RMSE=0.14741752073767123, size=0.053\n",
      "N=1000: bias=0.0015440932310268303, RMSE=0.04478323029587996, size=0.049\n"
     ]
    }
   ],
   "source": [
    "tau0 = tau*np.ones([R,1])\n",
    "for N, results in estDict.items():\n",
    "    (bias,rmse,size) = fn_bias_rmse_size(tau0,results['tauhat'],\n",
    "                                         results['sehat'])\n",
    "    print(f'N={N}: bias={bias}, RMSE={rmse}, size={size}')"
   ]
  },
  {
   "cell_type": "markdown",
   "id": "0c81263b",
   "metadata": {},
   "source": [
    "Explainning of reuslt: as N from 100 to 1000 , RMSE becomes smaller. Also, as we controlled the covariates, the RMSE decrease. "
   ]
  },
  {
   "cell_type": "markdown",
   "id": "22e50de8",
   "metadata": {},
   "source": [
    "Example of a real-life situation that might be consisitent with the DGP\n",
    "\n",
    "#### We are researching the factors that influence peoples' income. In order to do this, we assue personal income is our dependent variable (Y), and education level as our treatment ( if people who have higher than college education is 1, and if not is 0). Covairates are gender, race, age, and major. \n"
   ]
  },
  {
   "cell_type": "markdown",
   "id": "d40aedd5",
   "metadata": {},
   "source": [
    "# Simulate a DGP with a con founder \n"
   ]
  },
  {
   "cell_type": "markdown",
   "id": "d7735de0",
   "metadata": {},
   "source": [
    "$y_i=3*T_i+0.2*Confounder_i+e_i$\n",
    "\n",
    "$T_i=0.2*Confounder_i+u_i$"
   ]
  },
  {
   "cell_type": "code",
   "execution_count": 213,
   "id": "801f9ac4",
   "metadata": {},
   "outputs": [],
   "source": [
    "def fn_generate_data_conf(tau,N,p,corr):\n",
    "\n",
    "    nvar = p+1 # 1 confounder and variable for randomizing treatment\n",
    "    corr = 0.2 # correlation for multivariate normal\n",
    "    X = fn_generate_multnorm(N,corr,nvar)\n",
    "    C = X[:,1].reshape([N,1]) # confounder\n",
    "    T = fn_randomize_treatment(N) # choose treated units\n",
    "    err = np.random.normal(0,1,[N,1])\n",
    "    Yab = tau*T+0.2*C+err\n",
    "    Tab = err+0.2*C\n",
    "\n",
    "    return (Yab,T,C)"
   ]
  },
  {
   "cell_type": "code",
   "execution_count": 216,
   "id": "b2fad9fa",
   "metadata": {},
   "outputs": [
    {
     "data": {
      "text/html": [
       "<div>\n",
       "<style scoped>\n",
       "    .dataframe tbody tr th:only-of-type {\n",
       "        vertical-align: middle;\n",
       "    }\n",
       "\n",
       "    .dataframe tbody tr th {\n",
       "        vertical-align: top;\n",
       "    }\n",
       "\n",
       "    .dataframe thead th {\n",
       "        text-align: right;\n",
       "    }\n",
       "</style>\n",
       "<table border=\"1\" class=\"dataframe\">\n",
       "  <thead>\n",
       "    <tr style=\"text-align: right;\">\n",
       "      <th></th>\n",
       "      <th>Y</th>\n",
       "      <th>T</th>\n",
       "      <th>C</th>\n",
       "    </tr>\n",
       "  </thead>\n",
       "  <tbody>\n",
       "    <tr>\n",
       "      <th>0</th>\n",
       "      <td>2.623821</td>\n",
       "      <td>0.623821</td>\n",
       "      <td>0.101875</td>\n",
       "    </tr>\n",
       "    <tr>\n",
       "      <th>1</th>\n",
       "      <td>-0.586954</td>\n",
       "      <td>-0.586954</td>\n",
       "      <td>1.392417</td>\n",
       "    </tr>\n",
       "    <tr>\n",
       "      <th>2</th>\n",
       "      <td>-1.106002</td>\n",
       "      <td>-1.106002</td>\n",
       "      <td>-0.153773</td>\n",
       "    </tr>\n",
       "    <tr>\n",
       "      <th>3</th>\n",
       "      <td>2.281588</td>\n",
       "      <td>0.281588</td>\n",
       "      <td>0.788331</td>\n",
       "    </tr>\n",
       "    <tr>\n",
       "      <th>4</th>\n",
       "      <td>0.189836</td>\n",
       "      <td>0.189836</td>\n",
       "      <td>-0.981018</td>\n",
       "    </tr>\n",
       "    <tr>\n",
       "      <th>...</th>\n",
       "      <td>...</td>\n",
       "      <td>...</td>\n",
       "      <td>...</td>\n",
       "    </tr>\n",
       "    <tr>\n",
       "      <th>995</th>\n",
       "      <td>1.609313</td>\n",
       "      <td>-0.390687</td>\n",
       "      <td>-2.137904</td>\n",
       "    </tr>\n",
       "    <tr>\n",
       "      <th>996</th>\n",
       "      <td>1.112907</td>\n",
       "      <td>1.112907</td>\n",
       "      <td>1.588747</td>\n",
       "    </tr>\n",
       "    <tr>\n",
       "      <th>997</th>\n",
       "      <td>1.276638</td>\n",
       "      <td>-0.723362</td>\n",
       "      <td>-0.277114</td>\n",
       "    </tr>\n",
       "    <tr>\n",
       "      <th>998</th>\n",
       "      <td>-0.042667</td>\n",
       "      <td>-0.042667</td>\n",
       "      <td>0.273068</td>\n",
       "    </tr>\n",
       "    <tr>\n",
       "      <th>999</th>\n",
       "      <td>2.774920</td>\n",
       "      <td>0.774920</td>\n",
       "      <td>2.229191</td>\n",
       "    </tr>\n",
       "  </tbody>\n",
       "</table>\n",
       "<p>1000 rows × 3 columns</p>\n",
       "</div>"
      ],
      "text/plain": [
       "            Y         T         C\n",
       "0    2.623821  0.623821  0.101875\n",
       "1   -0.586954 -0.586954  1.392417\n",
       "2   -1.106002 -1.106002 -0.153773\n",
       "3    2.281588  0.281588  0.788331\n",
       "4    0.189836  0.189836 -0.981018\n",
       "..        ...       ...       ...\n",
       "995  1.609313 -0.390687 -2.137904\n",
       "996  1.112907  1.112907  1.588747\n",
       "997  1.276638 -0.723362 -0.277114\n",
       "998 -0.042667 -0.042667  0.273068\n",
       "999  2.774920  0.774920  2.229191\n",
       "\n",
       "[1000 rows x 3 columns]"
      ]
     },
     "execution_count": 216,
     "metadata": {},
     "output_type": "execute_result"
    }
   ],
   "source": [
    "tau = 2\n",
    "corr =0.2\n",
    "p = 3\n",
    "Y,T,C = fn_generate_data_conf(tau,N,p,corr)\n",
    "data = np.hstack([Y,T,C])\n",
    "data = pd.DataFrame(data)\n",
    "data.columns = ['Y', 'T', 'C']\n",
    "data.to_csv('data2.csv')\n",
    "data\n"
   ]
  },
  {
   "cell_type": "markdown",
   "id": "76a9d3f7",
   "metadata": {},
   "source": [
    "# illustrate a DAP "
   ]
  },
  {
   "cell_type": "code",
   "execution_count": 210,
   "id": "be97e74a",
   "metadata": {},
   "outputs": [
    {
     "data": {
      "image/png": "[encoded data removed]",
      "text/plain": [
       "<Figure size 432x288 with 1 Axes>"
      ]
     },
     "metadata": {},
     "output_type": "display_data"
    }
   ],
   "source": [
    "G = nx.DiGraph()\n",
    "    \n",
    "G.add_node('s1', desc='GPA')\n",
    "G.add_node('s2', desc='participation')\n",
    "G.add_node('s3', desc='preview the materials')\n",
    "G.add_edge('s2','s1')\n",
    "G.add_edge('s3','s2')\n",
    "G.add_edge('s3','s1')\n",
    "    \n",
    "pos = nx.spring_layout(G)\n",
    "nx.draw(G, pos)\n",
    "node_labels = nx.get_node_attributes(G, 'desc')\n",
    "nx.draw_networkx_labels(G, pos, labels=node_labels)\n",
    "plt.show()"
   ]
  },
  {
   "cell_type": "markdown",
   "id": "f51dfdac",
   "metadata": {},
   "source": [
    "## Monte Carlo\n",
    "### Case a ( control for the confounder)\n"
   ]
  },
  {
   "cell_type": "code",
   "execution_count": 217,
   "id": "8334999f",
   "metadata": {},
   "outputs": [
    {
     "name": "stderr",
     "output_type": "stream",
     "text": [
      "100%|█████████████████████████████████████| 2000/2000 [00:01<00:00, 1298.99it/s]\n",
      "100%|██████████████████████████████████████| 2000/2000 [00:10<00:00, 184.43it/s]\n"
     ]
    }
   ],
   "source": [
    "estDict = {}\n",
    "R = 2000\n",
    "for N in [100,1000]:\n",
    "    tauhats = []\n",
    "    sehats = []\n",
    "    for r in tqdm(range(R)):\n",
    "        Y,T,C = fn_generate_data_conf(tau,N,p,corr)\n",
    "        covars = np.concatenate([T,C],axis = 1)\n",
    "        mod = sm.OLS(Y,covars)\n",
    "        res = mod.fit()\n",
    "        tauhat = res.params[0]\n",
    "        se_tauhat = res.HC1_se[0]\n",
    "        tauhats = tauhats + [tauhat]\n",
    "        sehats = sehats + [se_tauhat]\n",
    "        \n",
    "    estDict[N] = {\n",
    "        'tauhat':np.array(tauhats).reshape([len(tauhats),1]),\n",
    "        'sehat':np.array(sehats).reshape([len(sehats),1])\n",
    "    }\n"
   ]
  },
  {
   "cell_type": "code",
   "execution_count": 218,
   "id": "811b4004",
   "metadata": {},
   "outputs": [
    {
     "name": "stdout",
     "output_type": "stream",
     "text": [
      "N=100: bias=-1.0003087250815506, RMSE=1.010818638109642, size=1.0\n",
      "N=1000: bias=-0.9991097734475622, RMSE=1.0000824299799618, size=1.0\n"
     ]
    }
   ],
   "source": [
    "tau0 = tau*np.ones([R,1])\n",
    "for N, results in estDict.items():\n",
    "    (bias,rmse,size) = fn_bias_rmse_size(tau0,results['tauhat'],\n",
    "                                         results['sehat'])\n",
    "    print(f'N={N}: bias={bias}, RMSE={rmse}, size={size}')"
   ]
  },
  {
   "cell_type": "markdown",
   "id": "d5eae74d",
   "metadata": {},
   "source": [
    "### Case b ( not control for the confounder)"
   ]
  },
  {
   "cell_type": "code",
   "execution_count": 233,
   "id": "c6c0a7e1",
   "metadata": {},
   "outputs": [
    {
     "name": "stderr",
     "output_type": "stream",
     "text": [
      "100%|█████████████████████████████████████| 2000/2000 [00:01<00:00, 1399.27it/s]\n",
      "100%|██████████████████████████████████████| 2000/2000 [00:10<00:00, 192.31it/s]\n"
     ]
    }
   ],
   "source": [
    "estDict = {}\n",
    "R = 2000\n",
    "for N in [100,1000]:\n",
    "    tauhats = []\n",
    "    sehats = []\n",
    "    for r in tqdm(range(R)):\n",
    "        Y,T,C = fn_generate_data_conf(tau,N,p,corr)\n",
    "        covars = np.concatenate([T],axis = 1)\n",
    "        mod = sm.OLS(Y,covars)\n",
    "        res = mod.fit()\n",
    "        tauhat = res.params[0]\n",
    "        se_tauhat = res.HC1_se[0]\n",
    "        tauhats = tauhats + [tauhat]\n",
    "        sehats = sehats + [se_tauhat]\n",
    "    estDict[N] = {\n",
    "        'tauhat':np.array(tauhats).reshape([len(tauhats),1]),\n",
    "        'sehat':np.array(sehats).reshape([len(sehats),1])\n",
    "    }"
   ]
  },
  {
   "cell_type": "code",
   "execution_count": 234,
   "id": "3e7d73cd",
   "metadata": {},
   "outputs": [
    {
     "name": "stdout",
     "output_type": "stream",
     "text": [
      "N=100: bias=0.8001362180707193, RMSE=0.80025947528443, size=1.0\n",
      "N=1000: bias=0.8000062315751263, RMSE=0.8000183362348193, size=1.0\n"
     ]
    }
   ],
   "source": [
    "tau0 = tau*np.ones([R,1])\n",
    "for N, results in estDict.items():\n",
    "    (bias,rmse,size) = fn_bias_rmse_size(tau0,results['tauhat'],\n",
    "                                         results['sehat'])\n",
    "    print(f'N={N}: bias={bias}, RMSE={rmse}, size={size}')"
   ]
  },
  {
   "cell_type": "markdown",
   "id": "6b3c602e",
   "metadata": {},
   "source": [
    "### example of real-life \n",
    "We studying how participation will affact students' GPA. Y= GPA\n",
    "Confounder= preview the material. \n",
    "we will find that students who had preview the material will more likely answer question (particiation), also they are more likely reciving a higher GPA. "
   ]
  },
  {
   "cell_type": "markdown",
   "id": "d131fe4e",
   "metadata": {},
   "source": [
    "# Simulate a DGP with selection bias into the treatment "
   ]
  },
  {
   "cell_type": "markdown",
   "id": "becc2f24",
   "metadata": {},
   "source": [
    "$S = 0.2*y+0.3*T_i+u$\n",
    "\n",
    "$y = 0.2*T+e$"
   ]
  },
  {
   "cell_type": "code",
   "execution_count": 230,
   "id": "7016c62e",
   "metadata": {},
   "outputs": [],
   "source": [
    "def fn_generate_data_s(tau,N,p,corr):\n",
    "\n",
    "    nvar = p+1 # 1 for selection bias\n",
    "    corr = 0.3 # correlation for multivariate normal\n",
    " \n",
    "    allX = fn_generate_multnorm(N,corr,nvar)\n",
    "    T = fn_randomize_treatment(N) # choose treated units\n",
    "    err = np.random.normal(0,1,[N,1])\n",
    "    U = np.random.normal(0,1,[N,1])\n",
    "    Y = tau*T+err\n",
    "    S = 0.2*T+0.3*Y+U\n",
    "\n",
    "    return (Y,T,S)"
   ]
  },
  {
   "cell_type": "code",
   "execution_count": 239,
   "id": "1b6b6ea1",
   "metadata": {},
   "outputs": [
    {
     "data": {
      "text/html": [
       "<div>\n",
       "<style scoped>\n",
       "    .dataframe tbody tr th:only-of-type {\n",
       "        vertical-align: middle;\n",
       "    }\n",
       "\n",
       "    .dataframe tbody tr th {\n",
       "        vertical-align: top;\n",
       "    }\n",
       "\n",
       "    .dataframe thead th {\n",
       "        text-align: right;\n",
       "    }\n",
       "</style>\n",
       "<table border=\"1\" class=\"dataframe\">\n",
       "  <thead>\n",
       "    <tr style=\"text-align: right;\">\n",
       "      <th></th>\n",
       "      <th>Y</th>\n",
       "      <th>T</th>\n",
       "      <th>S</th>\n",
       "    </tr>\n",
       "  </thead>\n",
       "  <tbody>\n",
       "    <tr>\n",
       "      <th>0</th>\n",
       "      <td>2.623821</td>\n",
       "      <td>0.623821</td>\n",
       "      <td>0.101875</td>\n",
       "    </tr>\n",
       "    <tr>\n",
       "      <th>1</th>\n",
       "      <td>-0.586954</td>\n",
       "      <td>-0.586954</td>\n",
       "      <td>1.392417</td>\n",
       "    </tr>\n",
       "    <tr>\n",
       "      <th>2</th>\n",
       "      <td>-1.106002</td>\n",
       "      <td>-1.106002</td>\n",
       "      <td>-0.153773</td>\n",
       "    </tr>\n",
       "    <tr>\n",
       "      <th>3</th>\n",
       "      <td>2.281588</td>\n",
       "      <td>0.281588</td>\n",
       "      <td>0.788331</td>\n",
       "    </tr>\n",
       "    <tr>\n",
       "      <th>4</th>\n",
       "      <td>0.189836</td>\n",
       "      <td>0.189836</td>\n",
       "      <td>-0.981018</td>\n",
       "    </tr>\n",
       "    <tr>\n",
       "      <th>...</th>\n",
       "      <td>...</td>\n",
       "      <td>...</td>\n",
       "      <td>...</td>\n",
       "    </tr>\n",
       "    <tr>\n",
       "      <th>995</th>\n",
       "      <td>1.609313</td>\n",
       "      <td>-0.390687</td>\n",
       "      <td>-2.137904</td>\n",
       "    </tr>\n",
       "    <tr>\n",
       "      <th>996</th>\n",
       "      <td>1.112907</td>\n",
       "      <td>1.112907</td>\n",
       "      <td>1.588747</td>\n",
       "    </tr>\n",
       "    <tr>\n",
       "      <th>997</th>\n",
       "      <td>1.276638</td>\n",
       "      <td>-0.723362</td>\n",
       "      <td>-0.277114</td>\n",
       "    </tr>\n",
       "    <tr>\n",
       "      <th>998</th>\n",
       "      <td>-0.042667</td>\n",
       "      <td>-0.042667</td>\n",
       "      <td>0.273068</td>\n",
       "    </tr>\n",
       "    <tr>\n",
       "      <th>999</th>\n",
       "      <td>2.774920</td>\n",
       "      <td>0.774920</td>\n",
       "      <td>2.229191</td>\n",
       "    </tr>\n",
       "  </tbody>\n",
       "</table>\n",
       "<p>1000 rows × 3 columns</p>\n",
       "</div>"
      ],
      "text/plain": [
       "            Y         T         S\n",
       "0    2.623821  0.623821  0.101875\n",
       "1   -0.586954 -0.586954  1.392417\n",
       "2   -1.106002 -1.106002 -0.153773\n",
       "3    2.281588  0.281588  0.788331\n",
       "4    0.189836  0.189836 -0.981018\n",
       "..        ...       ...       ...\n",
       "995  1.609313 -0.390687 -2.137904\n",
       "996  1.112907  1.112907  1.588747\n",
       "997  1.276638 -0.723362 -0.277114\n",
       "998 -0.042667 -0.042667  0.273068\n",
       "999  2.774920  0.774920  2.229191\n",
       "\n",
       "[1000 rows x 3 columns]"
      ]
     },
     "execution_count": 239,
     "metadata": {},
     "output_type": "execute_result"
    }
   ],
   "source": [
    "tau = 0.2\n",
    "corr = 0.3\n",
    "p = 3\n",
    "N = 1000\n",
    "Y,T,S = fn_generate_data_s(tau,N,p,corr)\n",
    "\n",
    "data4 = np.hstack([Y,T,C])\n",
    "data4 = pd.DataFrame(data)\n",
    "data.columns = ['Y', 'T', 'S']\n",
    "data.to_csv('data4.csv')\n",
    "data"
   ]
  },
  {
   "cell_type": "markdown",
   "id": "3c8eb33b",
   "metadata": {},
   "source": [
    "# illustration DGP with a DAG"
   ]
  },
  {
   "cell_type": "code",
   "execution_count": 232,
   "id": "757a39af",
   "metadata": {},
   "outputs": [
    {
     "data": {
      "image/png": "[encoded data removed]",
      "text/plain": [
       "<Figure size 432x288 with 1 Axes>"
      ]
     },
     "metadata": {},
     "output_type": "display_data"
    }
   ],
   "source": [
    "G = nx.DiGraph()\n",
    "    \n",
    "G.add_node('s1', desc='Y')\n",
    "G.add_node('s2', desc='T')\n",
    "G.add_node('s3', desc='selection bias')\n",
    "G.add_edge('s2','s1')\n",
    "G.add_edge('s1','s3')\n",
    "G.add_edge('s2','s3')\n",
    "    \n",
    "pos = nx.spring_layout(G)\n",
    "nx.draw(G, pos)\n",
    "node_labels = nx.get_node_attributes(G, 'desc')\n",
    "nx.draw_networkx_labels(G, pos, labels=node_labels)\n",
    "plt.show()"
   ]
  },
  {
   "cell_type": "markdown",
   "id": "6fe4a37f",
   "metadata": {},
   "source": [
    "## Monte Carlo\n",
    "### Case a ( control  ) "
   ]
  },
  {
   "cell_type": "code",
   "execution_count": 240,
   "id": "81dd66e4",
   "metadata": {},
   "outputs": [
    {
     "name": "stderr",
     "output_type": "stream",
     "text": [
      "100%|█████████████████████████████████████| 2000/2000 [00:01<00:00, 1334.23it/s]\n",
      "100%|██████████████████████████████████████| 2000/2000 [00:11<00:00, 178.12it/s]\n"
     ]
    }
   ],
   "source": [
    "estDict = {}\n",
    "R = 2000\n",
    "for N in [100,1000]:\n",
    "    tauhats = []\n",
    "    sehats = []\n",
    "    for r in tqdm(range(R)):\n",
    "        Yexp,T,Zexp = fn_generate_data_s(tau,N,p,corr)\n",
    "        covars = np.concatenate([T,Zexp],axis = 1)\n",
    "        mod = sm.OLS(Yexp,covars)\n",
    "        res = mod.fit()\n",
    "        tauhat = res.params[0]\n",
    "        se_tauhat = res.HC1_se[0]\n",
    "        tauhats = tauhats + [tauhat]\n",
    "        sehats = sehats + [se_tauhat]\n",
    "        \n",
    "    estDict[N] = {\n",
    "        'tauhat':np.array(tauhats).reshape([len(tauhats),1]),\n",
    "        'sehat':np.array(sehats).reshape([len(sehats),1])\n",
    "    }"
   ]
  },
  {
   "cell_type": "code",
   "execution_count": 241,
   "id": "5c43c9c1",
   "metadata": {},
   "outputs": [
    {
     "name": "stdout",
     "output_type": "stream",
     "text": [
      "N=100: bias=-0.07609318788268829, RMSE=0.15452549080501485, size=0.08\n",
      "N=1000: bias=-0.0734797201138797, RMSE=0.0854051009481212, size=0.393\n"
     ]
    }
   ],
   "source": [
    "tau0 = tau*np.ones([R,1])\n",
    "for N, results in estDict.items():\n",
    "    (bias,rmse,size) = fn_bias_rmse_size(tau0,results['tauhat'],\n",
    "                                         results['sehat'])\n",
    "    print(f'N={N}: bias={bias}, RMSE={rmse}, size={size}')\n"
   ]
  },
  {
   "cell_type": "markdown",
   "id": "15b56dd5",
   "metadata": {},
   "source": [
    "### Case b ( not control )"
   ]
  },
  {
   "cell_type": "code",
   "execution_count": 242,
   "id": "4ea1fcf0",
   "metadata": {},
   "outputs": [
    {
     "name": "stderr",
     "output_type": "stream",
     "text": [
      "100%|█████████████████████████████████████| 2000/2000 [00:00<00:00, 2484.06it/s]\n",
      "100%|██████████████████████████████████████| 2000/2000 [00:09<00:00, 210.16it/s]\n"
     ]
    }
   ],
   "source": [
    "estDict = {}\n",
    "R = 2000\n",
    "for N in [100,1000]:\n",
    "    tauhats = []\n",
    "    sehats = []\n",
    "    for r in tqdm(range(R)):\n",
    "        Yexp,T,Zab = fn_generate_data_s(tau,N,p,corr)   \n",
    "        Yt = Yexp[np.where(T==1)[0],:]\n",
    "        Yc = Yexp[np.where(T==0)[0],:]\n",
    "        tauhat,se_tauhat = fn_tauhat_means(Yt,Yc)\n",
    "        tauhats = tauhats + [tauhat]\n",
    "        sehats = sehats + [se_tauhat]\n",
    "        \n",
    "    estDict[N] = {\n",
    "        'tauhat':np.array(tauhats).reshape([len(tauhats),1]),\n",
    "        'sehat':np.array(sehats).reshape([len(sehats),1])\n",
    "    }"
   ]
  },
  {
   "cell_type": "code",
   "execution_count": 243,
   "id": "aecfc818",
   "metadata": {},
   "outputs": [
    {
     "name": "stdout",
     "output_type": "stream",
     "text": [
      "N=100: bias=-0.004122688629063437, RMSE=0.2048462030210417, size=0.058\n",
      "N=1000: bias=-0.0005866415196693371, RMSE=0.06214333008299138, size=0.048\n"
     ]
    }
   ],
   "source": [
    "tau0 = tau*np.ones([R,1])\n",
    "for N, results in estDict.items():\n",
    "    (bias,rmse,size) = fn_bias_rmse_size(tau0,results['tauhat'],\n",
    "                                         results['sehat'])\n",
    "    print(f'N={N}: bias={bias}, RMSE={rmse}, size={size}')"
   ]
  },
  {
   "cell_type": "markdown",
   "id": "0e077a57",
   "metadata": {},
   "source": [
    "## Example in real-life \n",
    "\n",
    "we want to assess a program for improving the eating habits of shift workers. You put up flyers where many work night shifts and invite them to participate. However, those who sign up may be very different from those who don’t. They may be more health conscious to begin with, which is why they are interested in a program to improve eating habits.\n",
    "\n",
    "y = assessment grade  \n",
    "\n",
    "s = only signed up people\n",
    "\n",
    "T = Varieties of dishes\n"
   ]
  },
  {
   "cell_type": "code",
   "execution_count": null,
   "id": "d0e9b113",
   "metadata": {},
   "outputs": [],
   "source": []
  }
 ],
 "metadata": {
  "kernelspec": {
   "display_name": "Python 3 (ipykernel)",
   "language": "python",
   "name": "python3"
  },
  "language_info": {
   "codemirror_mode": {
    "name": "ipython",
    "version": 3
   },
   "file_extension": ".py",
   "mimetype": "text/x-python",
   "name": "python",
   "nbconvert_exporter": "python",
   "pygments_lexer": "ipython3",
   "version": "3.9.7"
  }
 },
 "nbformat": 4,
 "nbformat_minor": 5
}
